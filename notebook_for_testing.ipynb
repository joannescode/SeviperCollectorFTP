{
 "cells": [
  {
   "cell_type": "code",
   "execution_count": null,
   "metadata": {},
   "outputs": [],
   "source": [
    "from ftplib import FTP"
   ]
  },
  {
   "cell_type": "code",
   "execution_count": null,
   "metadata": {},
   "outputs": [],
   "source": [
    "ftp = FTP(host=\"ftp.us.debian.org\", timeout=5, encoding=\"utf-8\")\n",
    "if ftp.login():\n",
    "    print(\"Connection OK!\")\n",
    "    ftp.dir()"
   ]
  },
  {
   "cell_type": "code",
   "execution_count": null,
   "metadata": {},
   "outputs": [],
   "source": [
    "if ftp.quit():\n",
    "    print(\"Connection closed!\")"
   ]
  },
  {
   "cell_type": "code",
   "execution_count": null,
   "metadata": {},
   "outputs": [],
   "source": [
    "def download_files_with_x_extension(extension, ftp):\n",
    "    # list all files in direction and write file endswith extension selected\n",
    "    files = []\n",
    "\n",
    "    def _collect_line(line):\n",
    "        files.append(line)\n",
    "\n",
    "    ftp.dir(_collect_line)\n",
    "\n",
    "    for output in files:\n",
    "        part = output.split()\n",
    "        if part[0].startswith(\"-r\") and part[-1].endswith(extension):\n",
    "            filename = part[-1]\n",
    "            print(f\"File with {extension} extension found: {filename}\")\n",
    "            with open(filename, \"wb\") as local_file:\n",
    "                ftp.retrbinary(f\"RETR {filename}\", local_file.write)"
   ]
  },
  {
   "cell_type": "code",
   "execution_count": null,
   "metadata": {},
   "outputs": [],
   "source": [
    "def download_all_files_founded(ftp):\n",
    "    # write all files founded, no exception\n",
    "    files = []\n",
    "\n",
    "    def _collect_line(line):\n",
    "        files.append(line)\n",
    "\n",
    "    ftp.dir(_collect_line)\n",
    "\n",
    "    for output in files:\n",
    "        part = output.split()\n",
    "        if part[0].startswith(\"-r\"):\n",
    "            filename = part[-1]\n",
    "            print(f\"File found: {filename}\")\n",
    "            with open(filename, \"wb\") as local_file:\n",
    "                ftp.retrbinary(f\"RETR {filename}\", local_file.write)"
   ]
  },
  {
   "cell_type": "code",
   "execution_count": null,
   "metadata": {},
   "outputs": [],
   "source": [
    "def list_dirs(ftp):\n",
    "    # List all dirs with parameter \"d\"\n",
    "    dirs = []\n",
    "\n",
    "    def _collect_line(output_line):\n",
    "        if output_line.startswith(\"d\"):\n",
    "            dir_name = output_line.split()[-1]\n",
    "            dirs.append(dir_name)\n",
    "\n",
    "    ftp.dir(_collect_line)\n",
    "    return dirs"
   ]
  },
  {
   "cell_type": "code",
   "execution_count": null,
   "metadata": {},
   "outputs": [],
   "source": [
    "def ftp_navigation(ftp):\n",
    "    # Navigation with list saved in list_dirs\n",
    "    while True:\n",
    "        print(\"Current dir: \", ftp.pwd())\n",
    "\n",
    "        dirs = list_dirs(ftp)\n",
    "        if not dirs:\n",
    "            print(\"Root not contain dirs.\")\n",
    "            break\n",
    "\n",
    "        print(\"Dirs founded:\")\n",
    "        for i, dir_name in enumerate(dirs):\n",
    "            print(f\"[{i}] {dir_name}\")\n",
    "        print(\"[q] Sair\")\n",
    "\n",
    "        choice = input(\"\\n Choice one dir for navigation (or 'q' for exit): \")\n",
    "        if choice.lower() == \"q\":\n",
    "            break\n",
    "\n",
    "        try:\n",
    "            choice_id = int(choice)\n",
    "            if 0 <= choice_id < len(dirs):\n",
    "                ftp.cwd(dirs[choice_id])\n",
    "                return True\n",
    "\n",
    "            else:\n",
    "                print(\"Invalid choice. Try again.\")\n",
    "\n",
    "        except ValueError:\n",
    "            print(\"Invalid input. Please, type a number or 'q'.\")"
   ]
  }
 ],
 "metadata": {
  "kernelspec": {
   "display_name": ".venv",
   "language": "python",
   "name": "python3"
  },
  "language_info": {
   "codemirror_mode": {
    "name": "ipython",
    "version": 3
   },
   "file_extension": ".py",
   "mimetype": "text/x-python",
   "name": "python",
   "nbconvert_exporter": "python",
   "pygments_lexer": "ipython3",
   "version": "3.12.6"
  }
 },
 "nbformat": 4,
 "nbformat_minor": 2
}
