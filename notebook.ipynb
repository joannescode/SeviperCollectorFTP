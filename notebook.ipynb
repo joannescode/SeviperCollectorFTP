{
 "cells": [
  {
   "cell_type": "code",
   "execution_count": null,
   "metadata": {},
   "outputs": [],
   "source": [
    "from ftplib import FTP"
   ]
  },
  {
   "cell_type": "code",
   "execution_count": null,
   "metadata": {},
   "outputs": [],
   "source": [
    "ftp = FTP(host=\"ftp.us.debian.org\", timeout=5, encoding=\"utf-8\")\n",
    "if ftp.login():\n",
    "    print(\"Connection OK!\")"
   ]
  },
  {
   "cell_type": "code",
   "execution_count": null,
   "metadata": {},
   "outputs": [],
   "source": [
    "# Write your tests..."
   ]
  },
  {
   "cell_type": "code",
   "execution_count": null,
   "metadata": {},
   "outputs": [],
   "source": [
    "if ftp.quit():\n",
    "    print(\"Connection closed!\")"
   ]
  },
  {
   "cell_type": "code",
   "execution_count": null,
   "metadata": {},
   "outputs": [],
   "source": [
    "# def download_files_with_x_extension(extension=str):\n",
    "#    files = []\n",
    "#    ftp.retrlines(\"NLST\", files.append)\n",
    "#    for filename in files:\n",
    "#        if filename.endswith(extension):\n",
    "#            print(f\"File with {extension} extension found: {filename}\")\n",
    "#            with open(filename, \"wb\") as local_file:\n",
    "#                ftp.retrbinary(f\"RETR {filename}\", local_file.write)"
   ]
  }
 ],
 "metadata": {
  "kernelspec": {
   "display_name": ".venv",
   "language": "python",
   "name": "python3"
  },
  "language_info": {
   "codemirror_mode": {
    "name": "ipython",
    "version": 3
   },
   "file_extension": ".py",
   "mimetype": "text/x-python",
   "name": "python",
   "nbconvert_exporter": "python",
   "pygments_lexer": "ipython3",
   "version": "3.12.6"
  }
 },
 "nbformat": 4,
 "nbformat_minor": 2
}
